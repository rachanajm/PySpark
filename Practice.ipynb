{
  "nbformat": 4,
  "nbformat_minor": 0,
  "metadata": {
    "colab": {
      "provenance": [],
      "authorship_tag": "ABX9TyPCAR9JstDAorQzyeIOXZP4",
      "include_colab_link": true
    },
    "kernelspec": {
      "name": "python3",
      "display_name": "Python 3"
    },
    "language_info": {
      "name": "python"
    }
  },
  "cells": [
    {
      "cell_type": "markdown",
      "metadata": {
        "id": "view-in-github",
        "colab_type": "text"
      },
      "source": [
        "<a href=\"https://colab.research.google.com/github/rachanajm/PySpark/blob/main/Practice.ipynb\" target=\"_parent\"><img src=\"https://colab.research.google.com/assets/colab-badge.svg\" alt=\"Open In Colab\"/></a>"
      ]
    },
    {
      "cell_type": "code",
      "execution_count": null,
      "metadata": {
        "id": "tQl-AtAtZbTI"
      },
      "outputs": [],
      "source": [
        "pip install pyspark"
      ]
    },
    {
      "cell_type": "code",
      "source": [
        "import pyspark\n",
        "from pyspark.sql import SparkSession #To start the spark session so it will connect to the cluster\n",
        "spark = SparkSession.builder.appName('Practice').getOrCreate() #Spark cluster name\n",
        "spark"
      ],
      "metadata": {
        "colab": {
          "base_uri": "https://localhost:8080/",
          "height": 222
        },
        "id": "PE-VMRk2aEhX",
        "outputId": "ab2da07e-05af-458e-8105-8419143e5168"
      },
      "execution_count": null,
      "outputs": [
        {
          "output_type": "execute_result",
          "data": {
            "text/plain": [
              "<pyspark.sql.session.SparkSession at 0x7e3fed7781f0>"
            ],
            "text/html": [
              "\n",
              "            <div>\n",
              "                <p><b>SparkSession - in-memory</b></p>\n",
              "                \n",
              "        <div>\n",
              "            <p><b>SparkContext</b></p>\n",
              "\n",
              "            <p><a href=\"http://2c195e6bed3b:4040\">Spark UI</a></p>\n",
              "\n",
              "            <dl>\n",
              "              <dt>Version</dt>\n",
              "                <dd><code>v3.5.1</code></dd>\n",
              "              <dt>Master</dt>\n",
              "                <dd><code>local[*]</code></dd>\n",
              "              <dt>AppName</dt>\n",
              "                <dd><code>Practice</code></dd>\n",
              "            </dl>\n",
              "        </div>\n",
              "        \n",
              "            </div>\n",
              "        "
            ]
          },
          "metadata": {},
          "execution_count": 4
        }
      ]
    },
    {
      "cell_type": "code",
      "source": [
        "df_pyspark=spark.read.csv(\"/content/Employee.csv\")\n",
        "df_pyspark.show()"
      ],
      "metadata": {
        "colab": {
          "base_uri": "https://localhost:8080/"
        },
        "id": "Dqs79VU7aL57",
        "outputId": "830fe2ca-2b1d-4a02-a986-3758d7c1b0bf"
      },
      "execution_count": null,
      "outputs": [
        {
          "output_type": "stream",
          "name": "stdout",
          "text": [
            "+-----------+-------------+----------+------+\n",
            "|        _c0|          _c1|       _c2|   _c3|\n",
            "+-----------+-------------+----------+------+\n",
            "|Employee_ID|Employee_name|Department|Salary|\n",
            "|          1|         Arun|        HR| 10000|\n",
            "|          2|        Rahul|        IT|  4500|\n",
            "|          0|            1|      Arun|    HR|\n",
            "+-----------+-------------+----------+------+\n",
            "\n"
          ]
        }
      ]
    },
    {
      "cell_type": "code",
      "source": [
        "df_pyspark=spark.read.option('header','true').csv(\"/content/Employee.csv\").show()"
      ],
      "metadata": {
        "colab": {
          "base_uri": "https://localhost:8080/"
        },
        "id": "5ys8LLhDbY7J",
        "outputId": "d51d358f-1dcc-43b4-d643-1ff600d1512b"
      },
      "execution_count": 17,
      "outputs": [
        {
          "output_type": "stream",
          "name": "stdout",
          "text": [
            "+-----------+-------------+----------+------+\n",
            "|Employee_ID|Employee_name|Department|Salary|\n",
            "+-----------+-------------+----------+------+\n",
            "|          1|         Arun|        HR| 10000|\n",
            "|          2|        Rahul|        IT|  4500|\n",
            "+-----------+-------------+----------+------+\n",
            "\n"
          ]
        }
      ]
    },
    {
      "cell_type": "code",
      "source": [
        "# Read the CSV with headers and store the DataFrame in df_pyspark\n",
        "df_pyspark = spark.read.option('header','true').csv(\"/content/Employee.csv\")\n",
        "\n",
        "# Now you can display the DataFrame\n",
        "df_pyspark.show()\n",
        "\n",
        "# And select a column (ALWAYS USE SELECT)\n",
        "df_pyspark.select(['Employee_name','Department']).show()\n",
        "\n",
        "# Adding column\n",
        "df_pyspark.withColumn('New_Salary',df_pyspark['Salary']+10000).show()\n",
        "\n",
        "# Drop the columns\n",
        "df_pyspark.drop('Salary').show()\n",
        "\n",
        "# Rename the columns\n",
        "df_pyspark.withColumnRenamed('Employee_name','Name').show()\n",
        "df_pyspark.withColumnRenamed('Name','Employee_name').show()"
      ],
      "metadata": {
        "colab": {
          "base_uri": "https://localhost:8080/"
        },
        "id": "UKbK-dWShV1v",
        "outputId": "33dd3a28-40af-412a-f19c-8aae8c7a8387"
      },
      "execution_count": 30,
      "outputs": [
        {
          "output_type": "stream",
          "name": "stdout",
          "text": [
            "+-----------+-------------+----------+------+\n",
            "|Employee_ID|Employee_name|Department|Salary|\n",
            "+-----------+-------------+----------+------+\n",
            "|          1|         Arun|        HR| 10000|\n",
            "|          2|        Rahul|        IT|  4500|\n",
            "+-----------+-------------+----------+------+\n",
            "\n",
            "+-------------+----------+\n",
            "|Employee_name|Department|\n",
            "+-------------+----------+\n",
            "|         Arun|        HR|\n",
            "|        Rahul|        IT|\n",
            "+-------------+----------+\n",
            "\n",
            "+-----------+-------------+----------+------+----------+\n",
            "|Employee_ID|Employee_name|Department|Salary|New_Salary|\n",
            "+-----------+-------------+----------+------+----------+\n",
            "|          1|         Arun|        HR| 10000|   20000.0|\n",
            "|          2|        Rahul|        IT|  4500|   14500.0|\n",
            "+-----------+-------------+----------+------+----------+\n",
            "\n",
            "+-----------+-------------+----------+\n",
            "|Employee_ID|Employee_name|Department|\n",
            "+-----------+-------------+----------+\n",
            "|          1|         Arun|        HR|\n",
            "|          2|        Rahul|        IT|\n",
            "+-----------+-------------+----------+\n",
            "\n",
            "+-----------+-----+----------+------+\n",
            "|Employee_ID| Name|Department|Salary|\n",
            "+-----------+-----+----------+------+\n",
            "|          1| Arun|        HR| 10000|\n",
            "|          2|Rahul|        IT|  4500|\n",
            "+-----------+-----+----------+------+\n",
            "\n",
            "+-----------+-------------+----------+------+\n",
            "|Employee_ID|Employee_name|Department|Salary|\n",
            "+-----------+-------------+----------+------+\n",
            "|          1|         Arun|        HR| 10000|\n",
            "|          2|        Rahul|        IT|  4500|\n",
            "+-----------+-------------+----------+------+\n",
            "\n"
          ]
        }
      ]
    }
  ]
}
{
  "nbformat": 4,
  "nbformat_minor": 0,
  "metadata": {
    "colab": {
      "provenance": [],
      "authorship_tag": "ABX9TyPz7PKEuch2XDwOpJkklzR6",
      "include_colab_link": true
    },
    "kernelspec": {
      "name": "python3",
      "display_name": "Python 3"
    },
    "language_info": {
      "name": "python"
    }
  },
  "cells": [
    {
      "cell_type": "markdown",
      "metadata": {
        "id": "view-in-github",
        "colab_type": "text"
      },
      "source": [
        "<a href=\"https://colab.research.google.com/github/rachanajm/PySpark/blob/main/PySpark2.ipynb\" target=\"_parent\"><img src=\"https://colab.research.google.com/assets/colab-badge.svg\" alt=\"Open In Colab\"/></a>"
      ]
    },
    {
      "cell_type": "code",
      "execution_count": null,
      "metadata": {
        "id": "DCOlhiwROp8l"
      },
      "outputs": [],
      "source": [
        "pip install pyspark"
      ]
    },
    {
      "cell_type": "code",
      "source": [
        "import pyspark\n",
        "from pyspark.sql import SparkSession\n",
        "import pyspark.sql.functions as F\n",
        "from pyspark.sql.functions import to_date, col, trim\n",
        "spark = SparkSession.builder.appName(\"Practice2\").getOrCreate() # Add parentheses here to call the function and assign the SparkSession object to 'spark'\n",
        "\n",
        "#Creating a dataframe\n",
        "data = [\n",
        "    (1, \"Gilbert\", \"24\", \"Greece\"),\n",
        "    (2, \"Antony\", \"32\", \"Bali\"),\n",
        "    (3, \"KS Guard House  North 37th\", \"23\", \"Wichita\")\n",
        "]\n",
        "\n",
        "headers = [\"id\", \"name\", \"age\", \"country\"]\n",
        "df = spark.createDataFrame(data, headers)\n",
        "df.show()\n",
        "\n",
        "# df.filter(df.name.like(\"%%\")).display()\n",
        "df = df.withColumn('name', F.when(df.name == 'KS Guard House  North 37th', 'KS - Wichita - Guard House – East 37th').otherwise(df.name))\n",
        "df.show()\n",
        "\n"
      ],
      "metadata": {
        "colab": {
          "base_uri": "https://localhost:8080/"
        },
        "id": "KfUmJaiNPIT5",
        "outputId": "ab4aa0f7-9906-47e6-de8f-c776691dadc2"
      },
      "execution_count": 24,
      "outputs": [
        {
          "output_type": "stream",
          "name": "stdout",
          "text": [
            "+---+--------------------+---+-------+\n",
            "| id|                name|age|country|\n",
            "+---+--------------------+---+-------+\n",
            "|  1|             Gilbert| 24| Greece|\n",
            "|  2|              Antony| 32|   Bali|\n",
            "|  3|KS Guard House  ...| 23|Wichita|\n",
            "+---+--------------------+---+-------+\n",
            "\n",
            "+---+--------------------+---+-------+\n",
            "| id|                name|age|country|\n",
            "+---+--------------------+---+-------+\n",
            "|  1|             Gilbert| 24| Greece|\n",
            "|  2|              Antony| 32|   Bali|\n",
            "|  3|KS - Wichita - Gu...| 23|Wichita|\n",
            "+---+--------------------+---+-------+\n",
            "\n"
          ]
        }
      ]
    },
    {
      "cell_type": "code",
      "source": [],
      "metadata": {
        "colab": {
          "base_uri": "https://localhost:8080/",
          "height": 193
        },
        "id": "uRphxFiJPw0x",
        "outputId": "648ae459-6140-4386-c48a-c1f14d627d7b"
      },
      "execution_count": 6,
      "outputs": [
        {
          "output_type": "error",
          "ename": "AttributeError",
          "evalue": "'function' object has no attribute 'createDataFrame'",
          "traceback": [
            "\u001b[0;31m---------------------------------------------------------------------------\u001b[0m",
            "\u001b[0;31mAttributeError\u001b[0m                            Traceback (most recent call last)",
            "\u001b[0;32m<ipython-input-6-7da6fbe3fcef>\u001b[0m in \u001b[0;36m<cell line: 8>\u001b[0;34m()\u001b[0m\n\u001b[1;32m      6\u001b[0m \u001b[0;34m\u001b[0m\u001b[0m\n\u001b[1;32m      7\u001b[0m \u001b[0mheaders\u001b[0m \u001b[0;34m=\u001b[0m \u001b[0;34m[\u001b[0m\u001b[0;34m\"id\"\u001b[0m\u001b[0;34m,\u001b[0m \u001b[0;34m\"name\"\u001b[0m\u001b[0;34m,\u001b[0m \u001b[0;34m\"age\"\u001b[0m\u001b[0;34m,\u001b[0m \u001b[0;34m\"country\"\u001b[0m\u001b[0;34m]\u001b[0m\u001b[0;34m\u001b[0m\u001b[0;34m\u001b[0m\u001b[0m\n\u001b[0;32m----> 8\u001b[0;31m \u001b[0mdf\u001b[0m \u001b[0;34m=\u001b[0m \u001b[0mspark\u001b[0m\u001b[0;34m.\u001b[0m\u001b[0mcreateDataFrame\u001b[0m\u001b[0;34m(\u001b[0m\u001b[0mdata\u001b[0m\u001b[0;34m,\u001b[0m \u001b[0mheaders\u001b[0m\u001b[0;34m)\u001b[0m\u001b[0;34m\u001b[0m\u001b[0;34m\u001b[0m\u001b[0m\n\u001b[0m\u001b[1;32m      9\u001b[0m \u001b[0mdf\u001b[0m\u001b[0;34m.\u001b[0m\u001b[0mshow\u001b[0m\u001b[0;34m(\u001b[0m\u001b[0;34m)\u001b[0m\u001b[0;34m\u001b[0m\u001b[0;34m\u001b[0m\u001b[0m\n",
            "\u001b[0;31mAttributeError\u001b[0m: 'function' object has no attribute 'createDataFrame'"
          ]
        }
      ]
    }
  ]
}